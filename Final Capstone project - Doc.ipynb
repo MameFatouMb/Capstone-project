{
    "nbformat_minor": 1, 
    "cells": [
        {
            "source": "# Applied Data Science project - MMB", 
            "cell_type": "markdown", 
            "metadata": {
                "collapsed": true
            }
        }, 
        {
            "source": "## The Battle of the Neighborhoods", 
            "cell_type": "markdown", 
            "metadata": {}
        }, 
        {
            "source": "### I. Introduction / Business problem", 
            "cell_type": "markdown", 
            "metadata": {}
        }, 
        {
            "source": "###### In this section, I will clearly define the problem I want to solve using Foursquare location data.\n\nPaul is a chef who works in a great Paris restaurant called Fouquet's. He worked in this restaurant for 15 years and has always done a good job. Today, Paul's ambition is to open his restaurant in Paris and have his own employees. It will be a French restaurant. Paul asks himself a single question: what is the best place to open his restaurant? He would like to open it in a place frequented by many people to maximize his income. So, let\u2019s get try to help Paul finding the BEST place !", 
            "cell_type": "markdown", 
            "metadata": {}
        }, 
        {
            "source": "### II. Data", 
            "cell_type": "markdown", 
            "metadata": {}
        }, 
        {
            "source": "###### In this section, I will describe the data I will use to solve this problem. \nI will select the popular places where people like to go. Because these places are very frequented by people and so after good hours of shopping or cinema, they are probably hungry.\nTo do that, I will use Foursquare location data to select the most popular places in Paris. I will first use a geolocator to get the longitude and latitude of Paris and then I will pass it on the url calling Foursquare API. I will use the exploring mode while calling at Foursquare. This will return me several data about popular places such as name, id, categories, longitude, latitude, address \u2026", 
            "cell_type": "markdown", 
            "metadata": {}
        }, 
        {
            "source": "", 
            "cell_type": "code", 
            "metadata": {}, 
            "outputs": [], 
            "execution_count": null
        }
    ], 
    "metadata": {
        "kernelspec": {
            "display_name": "Python 3.5", 
            "name": "python3", 
            "language": "python"
        }, 
        "language_info": {
            "mimetype": "text/x-python", 
            "nbconvert_exporter": "python", 
            "version": "3.5.5", 
            "name": "python", 
            "pygments_lexer": "ipython3", 
            "file_extension": ".py", 
            "codemirror_mode": {
                "version": 3, 
                "name": "ipython"
            }
        }
    }, 
    "nbformat": 4
}